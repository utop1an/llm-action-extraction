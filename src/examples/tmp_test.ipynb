{
 "cells": [
  {
   "cell_type": "code",
   "execution_count": 1,
   "id": "11a3c927",
   "metadata": {},
   "outputs": [],
   "source": [
    "import sys\n",
    "import os\n",
    "sys.path.append(os.path.abspath(\"..\"))\n",
    "from llm import Task\n"
   ]
  },
  {
   "cell_type": "code",
   "execution_count": 2,
   "id": "731dd723",
   "metadata": {},
   "outputs": [],
   "source": [
    "v2a = Task(\"v2a\")"
   ]
  },
  {
   "cell_type": "code",
   "execution_count": 3,
   "id": "1f136eb9",
   "metadata": {},
   "outputs": [
    {
     "data": {
      "text/plain": [
       "[['move', 'run', 'pick']]"
      ]
     },
     "execution_count": 3,
     "metadata": {},
     "output_type": "execute_result"
    }
   ],
   "source": [
    "v2a.solve_task({\"verbs\": [\"move\", \"run\", \"pick\"]}, \"gpt-4o-mini\")"
   ]
  },
  {
   "cell_type": "code",
   "execution_count": null,
   "id": "2d6fe9a4",
   "metadata": {},
   "outputs": [],
   "source": []
  }
 ],
 "metadata": {
  "kernelspec": {
   "display_name": "base",
   "language": "python",
   "name": "python3"
  },
  "language_info": {
   "codemirror_mode": {
    "name": "ipython",
    "version": 3
   },
   "file_extension": ".py",
   "mimetype": "text/x-python",
   "name": "python",
   "nbconvert_exporter": "python",
   "pygments_lexer": "ipython3",
   "version": "3.12.2"
  }
 },
 "nbformat": 4,
 "nbformat_minor": 5
}
