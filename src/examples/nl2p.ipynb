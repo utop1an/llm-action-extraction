{
 "cells": [
  {
   "cell_type": "code",
   "execution_count": 1,
   "metadata": {},
   "outputs": [],
   "source": [
    "import sys\n",
    "import os\n",
    "sys.path.append(os.path.abspath(\"..\"))\n",
    "from llm import generate_responses\n",
    "\n",
    "def render_comparison(data):\n",
    "    html = \"\"\"\n",
    "    <style>\n",
    "        table { border-collapse: collapse; width: 100%; font-family: sans-serif; }\n",
    "        th, td { border: 1px solid #ccc; padding: 8px; text-align: left; vertical-align: top; width: 25%; }\n",
    "        th { background-color: #f2f2f2; }\n",
    "        td pre { white-space: pre-wrap; word-break: break-word; }\n",
    "    </style>\n",
    "    <table>\n",
    "        <tr><th>Problem ID</th><th>Original Plan</th><th>NL Description</th><th>New Plan</th></tr>\n",
    "    \"\"\"\n",
    "    for item in data:\n",
    "        if len(item) == 3:\n",
    "        \n",
    "            html += f\"<tr><td>{item[0]}</td><td><pre>{item[1]}</pre></td><td><pre>{item[2]}</pre></td></tr>\"\n",
    "        elif len(item) == 4:\n",
    "            html += f\"<tr><td>{item[0]}</td><td><pre>{item[1]}</pre></td><td><pre>{item[2]}</pre></td><td><pre>{item[3]}</pre></td></tr>\"\n",
    "    html += \"</table>\"\n",
    "    return html\n"
   ]
  },
  {
   "cell_type": "code",
   "execution_count": 2,
   "metadata": {},
   "outputs": [],
   "source": [
    "# plan = \"pickup(A) stack(A, B) unstack(C,D) putdown(C)\"\n",
    "# res = generate_responses('deepseek-r1:8b', 'plan2nl', prompt_args={\n",
    "#     'plan': plan\n",
    "# })\n",
    "# print(res['content'])"
   ]
  },
  {
   "cell_type": "code",
   "execution_count": 3,
   "metadata": {},
   "outputs": [
    {
     "name": "stdout",
     "output_type": "stream",
     "text": [
      "Processing: p01.pddl\n",
      "Processing: p02.pddl\n",
      "Processing: p03.pddl\n",
      "Processing: p04.pddl\n",
      "Processing: p05.pddl\n",
      "Processing: p06.pddl\n",
      "Processing: p07.pddl\n",
      "Processing: p08.pddl\n",
      "Processing: p09.pddl\n",
      "Processing: p10.pddl\n",
      "Processing: p11.pddl\n",
      "Processing: p12.pddl\n",
      "Processing: p13.pddl\n",
      "Processing: p14.pddl\n",
      "Processing: p15.pddl\n",
      "Processing: p16.pddl\n",
      "Processing: p17.pddl\n",
      "Processing: p18.pddl\n",
      "Processing: p19.pddl\n",
      "Processing: p20.pddl\n",
      "Processing: p21.pddl\n"
     ]
    }
   ],
   "source": [
    "plan_file_path = \"../../data/plans/plans.txt\"\n",
    "with open(plan_file_path, 'r') as f:\n",
    "    with open(\"transport_plan2nl.txt\", 'w') as f2:\n",
    "        lines = f.readlines()\n",
    "        count = 0\n",
    "        for line in lines:\n",
    "            if count >20:\n",
    "                break\n",
    "            item = line.split(\"&&\")\n",
    "            domain = item[0].strip()\n",
    "            prob = item[1].strip()\n",
    "            if domain != \"transport\":\n",
    "                continue\n",
    "            plan = line.split(\"&&\")[-1].strip()\n",
    "            print(\"Processing:\", prob)\n",
    "            res = generate_responses('gpt-4o-mini', 'plan2nl', prompt_args={\n",
    "                'plan': plan\n",
    "            })\n",
    "            f2.write(f\"{prob}&&{plan}&&{res['content']}\\n\")\n",
    "            f2.flush()\n",
    "            count += 1\n"
   ]
  },
  {
   "cell_type": "code",
   "execution_count": 4,
   "metadata": {},
   "outputs": [],
   "source": [
    "data = []\n",
    "with open(\"transport_plan2nl.txt\", 'r') as f:\n",
    "        lines = f.readlines()\n",
    "        for line in lines:\n",
    "            item = line.split(\"&&\")\n",
    "            data.append(item)\n"
   ]
  },
  {
   "cell_type": "code",
   "execution_count": 5,
   "metadata": {},
   "outputs": [
    {
     "name": "stdout",
     "output_type": "stream",
     "text": [
      "Processing Problem ID: p01.pddl\n",
      "Processing Problem ID: p02.pddl\n",
      "Processing Problem ID: p03.pddl\n",
      "Processing Problem ID: p04.pddl\n",
      "Processing Problem ID: p05.pddl\n",
      "Processing Problem ID: p06.pddl\n",
      "Processing Problem ID: p07.pddl\n",
      "Processing Problem ID: p08.pddl\n",
      "Processing Problem ID: p09.pddl\n",
      "Processing Problem ID: p10.pddl\n",
      "Processing Problem ID: p11.pddl\n",
      "Processing Problem ID: p12.pddl\n",
      "Processing Problem ID: p13.pddl\n",
      "Processing Problem ID: p14.pddl\n",
      "Processing Problem ID: p15.pddl\n",
      "Processing Problem ID: p16.pddl\n",
      "Processing Problem ID: p17.pddl\n",
      "Processing Problem ID: p18.pddl\n",
      "Processing Problem ID: p19.pddl\n",
      "Processing Problem ID: p20.pddl\n",
      "Processing Problem ID: p21.pddl\n"
     ]
    }
   ],
   "source": [
    "new_data = []\n",
    "with open(\"transport_nl2plan.txt\", 'w') as f:\n",
    "    for item in data:\n",
    "        print(f\"Processing Problem ID: {item[0]}\")\n",
    "        prob = item[0].strip()\n",
    "        plan = item[1].strip()\n",
    "        nl = item[2].strip()\n",
    "        res = generate_responses('gpt-4o-mini', 'nl2plan', prompt_args={\n",
    "            'nl': nl\n",
    "        })\n",
    "        f.write(f\"{prob}&&{plan}&&{nl}&&{res['content']}\\n\")\n",
    "        f.flush()\n",
    "        new_data.append([prob, plan, nl, res['content']])\n",
    "\n",
    "\n",
    "    \n",
    "    "
   ]
  },
  {
   "cell_type": "code",
   "execution_count": 6,
   "metadata": {},
   "outputs": [],
   "source": [
    "\n",
    "html = render_comparison(new_data)\n",
    "with open(\"nl2plan_output.html\", \"w\", encoding=\"utf-8\") as f:\n",
    "    f.write(html)"
   ]
  },
  {
   "cell_type": "code",
   "execution_count": null,
   "metadata": {},
   "outputs": [],
   "source": []
  }
 ],
 "metadata": {
  "kernelspec": {
   "display_name": "llm",
   "language": "python",
   "name": "python3"
  },
  "language_info": {
   "codemirror_mode": {
    "name": "ipython",
    "version": 3
   },
   "file_extension": ".py",
   "mimetype": "text/x-python",
   "name": "python",
   "nbconvert_exporter": "python",
   "pygments_lexer": "ipython3",
   "version": "3.13.4"
  }
 },
 "nbformat": 4,
 "nbformat_minor": 2
}
