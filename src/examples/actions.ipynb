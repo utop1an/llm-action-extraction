{
 "cells": [
  {
   "cell_type": "code",
   "execution_count": 1,
   "metadata": {},
   "outputs": [],
   "source": [
    "import sys\n",
    "import os\n",
    "sys.path.append(os.path.abspath(\"..\"))\n",
    "from llm import generate_responses\n",
    "\n",
    "def render_comparison(data):\n",
    "    html = \"\"\"\n",
    "    <style>\n",
    "        table { border-collapse: collapse; width: 100%; font-family: sans-serif; }\n",
    "        th, td { border: 1px solid #ccc; padding: 8px; text-align: left; vertical-align: top; width: 25%; }\n",
    "        th { background-color: #f2f2f2; }\n",
    "        td pre { white-space: pre-wrap; word-break: break-word; }\n",
    "    </style>\n",
    "    <table>\n",
    "        <tr><th>Problem ID</th><th>Original Plan</th><th>NL Description</th><th>New Plan</th></tr>\n",
    "    \"\"\"\n",
    "    for item in data:\n",
    "        if len(item) == 3:\n",
    "        \n",
    "            html += f\"<tr><td>{item[0]}</td><td><pre>{item[1]}</pre></td><td><pre>{item[2]}</pre></td></tr>\"\n",
    "        elif len(item) == 4:\n",
    "            html += f\"<tr><td>{item[0]}</td><td><pre>{item[1]}</pre></td><td><pre>{item[2]}</pre></td><td><pre>{item[3]}</pre></td></tr>\"\n",
    "    html += \"</table>\"\n",
    "    return html\n"
   ]
  },
  {
   "cell_type": "code",
   "execution_count": 4,
   "metadata": {},
   "outputs": [],
   "source": [
    "data = []\n",
    "with open(\"transport_plan2nl.txt\", 'r') as f:\n",
    "        lines = f.readlines()\n",
    "        for line in lines:\n",
    "            item = line.split(\"&&\")\n",
    "            data.append(item)\n"
   ]
  },
  {
   "cell_type": "code",
   "execution_count": null,
   "metadata": {},
   "outputs": [
    {
     "name": "stdout",
     "output_type": "stream",
     "text": [
      "Processing Problem ID: p01.pddl\n",
      "Processing Problem ID: p02.pddl\n",
      "Processing Problem ID: p03.pddl\n",
      "Processing Problem ID: p04.pddl\n",
      "Processing Problem ID: p05.pddl\n",
      "Processing Problem ID: p06.pddl\n",
      "Processing Problem ID: p07.pddl\n",
      "Processing Problem ID: p08.pddl\n",
      "Processing Problem ID: p09.pddl\n",
      "Processing Problem ID: p10.pddl\n",
      "Processing Problem ID: p11.pddl\n",
      "Processing Problem ID: p12.pddl\n",
      "Processing Problem ID: p13.pddl\n",
      "Processing Problem ID: p14.pddl\n",
      "Processing Problem ID: p15.pddl\n",
      "Processing Problem ID: p16.pddl\n",
      "Processing Problem ID: p17.pddl\n",
      "Processing Problem ID: p18.pddl\n",
      "Processing Problem ID: p19.pddl\n",
      "Processing Problem ID: p20.pddl\n",
      "Processing Problem ID: p21.pddl\n"
     ]
    }
   ],
   "source": [
    "new_data = []\n",
    "with open(\"transport_actions.txt\", 'w') as f:\n",
    "    for item in data:\n",
    "        print(f\"Processing Problem ID: {item[0]}\")\n",
    "        prob = item[0].strip()\n",
    "        plan = item[1].strip()\n",
    "        nl = item[2].strip()\n",
    "        res = generate_responses('gpt-4o-mini', 'actions', prompt_args={\n",
    "            'nl': nl\n",
    "        })\n",
    "        f.write(f\"{prob}&&{plan}&&{nl}&&{res['content']}\\n\")\n",
    "        f.flush()\n",
    "        new_data.append([prob, plan, nl, res['content']])\n",
    "\n",
    "\n",
    "    \n",
    "    "
   ]
  },
  {
   "cell_type": "code",
   "execution_count": null,
   "metadata": {},
   "outputs": [],
   "source": [
    "\n",
    "html = render_comparison(new_data)\n",
    "with open(\"actions_output.html\", \"w\", encoding=\"utf-8\") as f:\n",
    "    f.write(html)"
   ]
  },
  {
   "cell_type": "code",
   "execution_count": null,
   "metadata": {},
   "outputs": [],
   "source": []
  }
 ],
 "metadata": {
  "kernelspec": {
   "display_name": "llm",
   "language": "python",
   "name": "python3"
  },
  "language_info": {
   "codemirror_mode": {
    "name": "ipython",
    "version": 3
   },
   "file_extension": ".py",
   "mimetype": "text/x-python",
   "name": "python",
   "nbconvert_exporter": "python",
   "pygments_lexer": "ipython3",
   "version": "3.13.4"
  }
 },
 "nbformat": 4,
 "nbformat_minor": 2
}
