{
 "cells": [
  {
   "cell_type": "code",
   "execution_count": 14,
   "metadata": {},
   "outputs": [],
   "source": [
    "import sys\n",
    "import os\n",
    "sys.path.append(os.path.abspath(\"..\"))\n",
    "from llm import generate_responses\n",
    "\n",
    "def render_comparison(data):\n",
    "    html = \"\"\"\n",
    "    <style>\n",
    "        table { border-collapse: collapse; width: 100%; font-family: sans-serif; }\n",
    "        th, td { border: 1px solid #ccc; padding: 8px; text-align: left; vertical-align: top; width: 25%; }\n",
    "        th { background-color: #f2f2f2; }\n",
    "        td pre { white-space: pre-wrap; word-break: break-word; }\n",
    "    </style>\n",
    "    <table>\n",
    "        <tr><th>Problem ID</th><th>Original Plan</th><th>NL Description</th><th>New Plan</th></tr>\n",
    "    \"\"\"\n",
    "    for item in data:\n",
    "        if len(item) == 3:\n",
    "        \n",
    "            html += f\"<tr><td>{item[0]}</td><td><pre>{item[1]}</pre></td><td><pre>{item[2]}</pre></td></tr>\"\n",
    "        elif len(item) == 4:\n",
    "            html += f\"<tr><td>{item[0]}</td><td><pre>{item[1]}</pre></td><td><pre>{item[2]}</pre></td><td><pre>{item[3]}</pre></td></tr>\"\n",
    "    html += \"</table>\"\n",
    "    return html\n"
   ]
  },
  {
   "cell_type": "code",
   "execution_count": 2,
   "metadata": {},
   "outputs": [],
   "source": [
    "# plan = \"pickup(A) stack(A, B) unstack(C,D) putdown(C)\"\n",
    "# res = generate_responses('deepseek-r1:8b', 'plan2nl', prompt_args={\n",
    "#     'plan': plan\n",
    "# })\n",
    "# print(res['content'])"
   ]
  },
  {
   "cell_type": "code",
   "execution_count": 3,
   "metadata": {},
   "outputs": [
    {
     "name": "stdout",
     "output_type": "stream",
     "text": [
      "Processing: p01.pddl\n",
      "Processing: p02.pddl\n",
      "Processing: p03.pddl\n",
      "Processing: p04.pddl\n",
      "Processing: p05.pddl\n",
      "Processing: p06.pddl\n",
      "Processing: p07.pddl\n",
      "Processing: p08.pddl\n",
      "Processing: p09.pddl\n",
      "Processing: p10.pddl\n",
      "Processing: p11.pddl\n",
      "Processing: p12.pddl\n",
      "Processing: p13.pddl\n",
      "Processing: p14.pddl\n",
      "Processing: p15.pddl\n",
      "Processing: p16.pddl\n",
      "Processing: p17.pddl\n",
      "Processing: p18.pddl\n",
      "Processing: p19.pddl\n",
      "Processing: p20.pddl\n",
      "Processing: p21.pddl\n"
     ]
    }
   ],
   "source": [
    "plan_file_path = \"../../data/plans/plans.txt\"\n",
    "with open(plan_file_path, 'r') as f:\n",
    "    with open(\"transport_plan2nl.txt\", 'w') as f2:\n",
    "        lines = f.readlines()\n",
    "        count = 0\n",
    "        for line in lines:\n",
    "            if count >20:\n",
    "                break\n",
    "            item = line.split(\"&&\")\n",
    "            domain = item[0].strip()\n",
    "            prob = item[1].strip()\n",
    "            if domain != \"transport\":\n",
    "                continue\n",
    "            plan = line.split(\"&&\")[-1].strip()\n",
    "            print(\"Processing:\", prob)\n",
    "            res = generate_responses('gpt-4o-mini', 'plan2nl', prompt_args={\n",
    "                'plan': plan\n",
    "            })\n",
    "            f2.write(f\"{prob}&&{plan}&&{res['content']}\\n\")\n",
    "            f2.flush()\n",
    "            count += 1\n"
   ]
  },
  {
   "cell_type": "code",
   "execution_count": null,
   "metadata": {},
   "outputs": [
    {
     "name": "stdout",
     "output_type": "stream",
     "text": [
      "[['p01.pddl', '(pick-up v1?vehicle l1?location p1?package c0?size c1?size),(drive v1?vehicle l1?location l2?location),(drop v1?vehicle l2?location p1?package c0?size c1?size)', 'To execute the plan, first, you need to pick up a vehicle from a specific location while ensuring to take a package of a certain size. Next, drive the vehicle from the initial location to a new destination. Finally, drop off the package at the new location using the same vehicle.\\n'], ['p02.pddl', '(drive v1?vehicle l2?location l1?location),(pick-up v1?vehicle l1?location p1?package c0?size c1?size),(drive v1?vehicle l1?location l2?location),(drop v1?vehicle l2?location p1?package c0?size c1?size)', 'First, you need to drive a vehicle from one location to another location. Then, at the first location, you will pick up a package of a specified size. After that, you will drive the vehicle again from the first location to the second location. Finally, you will drop off the package at the second location.\\n'], ['p03.pddl', '(drive v1?vehicle l1?location l2?location),(drive v1?vehicle l2?location l3?location),(pick-up v1?vehicle l3?location p1?package c0?size c1?size),(drive v1?vehicle l3?location l2?location),(drive v1?vehicle l2?location l1?location),(drop v1?vehicle l1?location p1?package c0?size c1?size)', 'To execute the plan, first, you need to drive a vehicle from the initial location to the second location. Next, continue driving the same vehicle from the second location to the third location. At the third location, pick up a package of specified sizes. After picking up the package, drive the vehicle back from the third location to the second location. Then, drive the vehicle again from the second location back to the initial location. Finally, drop off the package at the initial location using the vehicle.\\n'], ['p04.pddl', '(drive v1?vehicle l3?location l2?location),(drive v1?vehicle l2?location l1?location),(pick-up v1?vehicle l1?location p1?package c0?size c1?size),(drive v1?vehicle l1?location l2?location),(drop v1?vehicle l2?location p1?package c0?size c1?size)', 'First, you need to drive a vehicle from location three to location two. Next, continue driving the same vehicle from location two to location one. After reaching location one, pick up a package of a specific size. Then, drive the vehicle again from location one to location two. Finally, drop off the package at location two.\\n'], ['p05.pddl', '(pick-up v1?vehicle l1?location p1?package c1?size c2?size),(drive v1?vehicle l1?location l2?location),(drop v1?vehicle l2?location p1?package c1?size c2?size),(drive v1?vehicle l2?location l1?location),(pick-up v1?vehicle l1?location p2?package c1?size c2?size),(drive v1?vehicle l1?location l2?location),(drop v1?vehicle l2?location p2?package c1?size c2?size)', 'To carry out the plan, first, pick up the package of a certain size from a specific location using a vehicle. Next, drive the vehicle from that location to another location. After reaching the destination, drop off the package at that location. Then, drive the vehicle back to the original location. Once there, pick up another package of the same size from the original location using the vehicle. Drive again to the second location and finally drop off that package there.\\n'], ['p06.pddl', '(drive v1?vehicle l1?location l2?location),(pick-up v1?vehicle l2?location p1?package c1?size c2?size),(drive v1?vehicle l2?location l1?location),(drop v1?vehicle l1?location p1?package c1?size c2?size),(drive v1?vehicle l1?location l2?location),(pick-up v1?vehicle l2?location p2?package c1?size c2?size),(drive v1?vehicle l2?location l1?location),(drop v1?vehicle l1?location p2?package c1?size c2?size)', 'First, you start by driving from one location to another using a vehicle. Once you arrive at the second location, you pick up a package of a certain size. After that, you drive back to the first location with the package. Upon reaching the first location, you drop off the package. Then, you drive again from the first location to the second location. At the second location, you pick up another package of the same size. Finally, you drive back to the first location once more to drop off this second package.\\n'], ['p07.pddl', '(pick-up v1?vehicle l2?location p1?package c1?size c2?size),(drive v1?vehicle l2?location l1?location),(drop v1?vehicle l1?location p1?package c1?size c2?size),(pick-up v1?vehicle l1?location p2?package c1?size c2?size),(drive v1?vehicle l1?location l2?location),(drop v1?vehicle l2?location p2?package c1?size c2?size)', 'The plan consists of a series of actions where the first step is to pick up a package of a certain size from a specified location using a vehicle, followed by driving the vehicle to a different location, then dropping off the package at that location. The next action involves picking up another package of the same size from the previous location with the same vehicle, after which the vehicle is driven again to the initial location, concluding with dropping off the second package at that location.\\n'], ['p08.pddl', '(drive v1?vehicle l4?location l2?location),(pick-up v1?vehicle l2?location p1?package c1?size c2?size),(drive v1?vehicle l2?location l3?location),(drop v1?vehicle l3?location p1?package c1?size c2?size)', 'To execute the plan, first, you need to drive a vehicle from the starting location to the next location. After reaching that location, pick up a package of a certain size from the specified location. Once you have the package, drive the vehicle from the second location to a third location. Finally, drop off the package at the third location using the vehicle.\\n'], ['p09.pddl', '(pick-up v1?vehicle l1?location p1?package c1?size c2?size),(drive v1?vehicle l1?location l2?location),(drive v1?vehicle l2?location l4?location),(drop v1?vehicle l4?location p1?package c1?size c2?size),(drive v1?vehicle l4?location l2?location),(drive v1?vehicle l2?location l1?location),(pick-up v1?vehicle l1?location p2?package c1?size c2?size),(drive v1?vehicle l1?location l2?location),(drive v1?vehicle l2?location l3?location),(drop v1?vehicle l3?location p2?package c1?size c2?size)', 'Start by picking up a package of a certain size from a specific location using a vehicle. Then, drive the vehicle to another location. After that, continue driving the vehicle to a fourth location where you will drop off the package. Next, drive back to the second location, and then return to the first location to pick up another package of the same size. Once again, drive to the second location, then proceed to a third location, where you will drop off the second package.\\n'], ['p10.pddl', '(drive v1?vehicle l4?location l2?location),(drive v1?vehicle l2?location l3?location),(pick-up v1?vehicle l3?location p1?package c1?size c2?size),(drive v1?vehicle l3?location l2?location),(drive v1?vehicle l2?location l4?location),(drop v1?vehicle l4?location p1?package c1?size c2?size),(drive v1?vehicle l4?location l2?location),(drive v1?vehicle l2?location l3?location),(pick-up v1?vehicle l3?location p2?package c1?size c2?size),(drive v1?vehicle l3?location l2?location),(drop v1?vehicle l2?location p2?package c1?size c2?size),(pick-up v1?vehicle l2?location p3?package c1?size c2?size),(drive v1?vehicle l2?location l3?location),(drop v1?vehicle l3?location p3?package c1?size c2?size),(drive v1?vehicle l3?location l2?location),(drive v1?vehicle l2?location l4?location),(drive v1?vehicle l4?location l1?location),(pick-up v1?vehicle l1?location p4?package c1?size c2?size),(drive v1?vehicle l1?location l4?location),(drop v1?vehicle l4?location p4?package c1?size c2?size)', 'First, drive the vehicle from location l4 to location l2, then drive the vehicle from location l2 to location l3. Next, pick up package p1, which has specified sizes c1 and c2, at location l3. After that, drive the vehicle back from location l3 to location l2, and then drive from location l2 to location l4 to drop off package p1 at location l4. Subsequently, drive from location l4 to location l2, and then from location l2 to location l3 to pick up package p2, which also has sizes c1 and c2, at location l3. Drive the vehicle from location l3 to location l2 again to drop off package p2 at location l2. Next, pick up package p3 with sizes c1 and c2 at location l2, and drive from location l2 to location l3 to drop it off at location l3. Afterward, drive the vehicle back from location l3 to location l2, and then from location l2 to location l4. Drive from location l4 to location l1 to pick up package p4 with sizes c1 and c2 at location l1. Finally, drive from location l1 back to location l4 to drop off package p4 at location l4.\\n'], ['p11.pddl', '(drive v1?vehicle l1?location l3?location),(pick-up v1?vehicle l3?location p1?package c1?size c2?size),(drive v1?vehicle l3?location l1?location),(drop v1?vehicle l1?location p1?package c1?size c2?size),(drive v1?vehicle l1?location l4?location),(pick-up v1?vehicle l4?location p2?package c1?size c2?size),(drive v1?vehicle l4?location l1?location),(drop v1?vehicle l1?location p2?package c1?size c2?size)', 'First, you need to drive a vehicle from the first location to the third location. Once you arrive at the third location, pick up a package of a specific size. After that, drive the vehicle back from the third location to the first location, where you will drop off the package. Next, drive from the first location to the fourth location. At the fourth location, pick up another package of the same size. Finally, drive back to the first location again and drop off the second package.\\n'], ['p12.pddl', '(drive v1?vehicle l3?location l2?location),(drive v1?vehicle l2?location l6?location),(pick-up v1?vehicle l6?location p1?package c0?size c1?size),(drive v1?vehicle l6?location l2?location),(drive v1?vehicle l2?location l4?location),(drive v1?vehicle l4?location l5?location),(drop v1?vehicle l5?location p1?package c0?size c1?size),(pick-up v1?vehicle l5?location p2?package c0?size c1?size),(drive v1?vehicle l5?location l4?location),(drive v1?vehicle l4?location l2?location),(drive v1?vehicle l2?location l6?location),(drop v1?vehicle l6?location p2?package c0?size c1?size)', 'To execute the plan, first drive the vehicle from location 3 to location 2, then drive from location 2 to location 6. Next, pick up the package at location 6, and drive back to location 2. After that, drive from location 2 to location 4, then proceed to drive from location 4 to location 5. At location 5, drop off the first package and pick up the second package. Then drive back to location 4, followed by returning to location 2, and finally, drive from location 2 back to location 6 to drop off the second package.\\n'], ['p13.pddl', '(drive v1?vehicle l2?location l4?location),(pick-up v1?vehicle l4?location p1?package c0?size c1?size),(drive v1?vehicle l4?location l2?location),(drive v1?vehicle l2?location l3?location),(drop v1?vehicle l3?location p1?package c0?size c1?size),(drive v1?vehicle l3?location l2?location),(drive v1?vehicle l2?location l4?location),(pick-up v1?vehicle l4?location p2?package c0?size c1?size),(drive v1?vehicle l4?location l5?location),(drop v1?vehicle l5?location p2?package c0?size c1?size),(drive v1?vehicle l5?location l4?location),(pick-up v1?vehicle l4?location p3?package c0?size c1?size),(drive v1?vehicle l4?location l2?location),(drive v1?vehicle l2?location l3?location),(drive v1?vehicle l3?location l1?location),(drop v1?vehicle l1?location p3?package c0?size c1?size)', 'To carry out the plan, start by driving the vehicle to the second location, then pick up the first package from there. After that, drive back to the fourth location, and then proceed to drive to the third location where you will drop off the first package. Next, drive back to the second location, then return to the fourth location to pick up the second package. From there, drive to the fifth location to drop off the second package, then go back to the fourth location to pick up the third package. Drive to the second location, then drive to the third location, and finally drive to the first location to drop off the third package.\\n'], ['p14.pddl', '(pick-up v1?vehicle l6?location p1?package c0?size c1?size),(drive v1?vehicle l6?location l4?location),(drop v1?vehicle l4?location p1?package c0?size c1?size),(drive v1?vehicle l4?location l3?location),(pick-up v1?vehicle l3?location p2?package c0?size c1?size),(drive v1?vehicle l3?location l2?location),(drop v1?vehicle l2?location p2?package c0?size c1?size),(drive v1?vehicle l2?location l1?location),(pick-up v1?vehicle l1?location p3?package c0?size c1?size),(drive v1?vehicle l1?location l5?location),(drop v1?vehicle l5?location p3?package c0?size c1?size)', 'To execute the plan, first, pick up the package from the specified location using the vehicle. Next, drive from the current location to the next designated location. Once you arrive, drop off the package at that location. Continue by driving to another location, where you will pick up a second package. After that, drive to the next location and drop off the second package. Then, drive to a subsequent location to pick up a third package. Drive again to another location before finally dropping off the third package at the designated location.\\n'], ['p15.pddl', '(drive v1?vehicle l2?location l5?location),(pick-up v1?vehicle l5?location p1?package c0?size c1?size),(drive v1?vehicle l5?location l1?location),(drop v1?vehicle l1?location p1?package c0?size c1?size),(drive v1?vehicle l1?location l4?location),(pick-up v1?vehicle l4?location p2?package c0?size c1?size),(drive v1?vehicle l4?location l5?location),(drop v1?vehicle l5?location p2?package c0?size c1?size),(drive v1?vehicle l5?location l6?location),(pick-up v1?vehicle l6?location p3?package c0?size c1?size),(drive v1?vehicle l6?location l2?location),(drop v1?vehicle l2?location p3?package c0?size c1?size)', 'First, drive the vehicle from the starting location to the second location. Next, pick up the first package at the second location. Then, drive the vehicle from the second location to the first location and drop off the first package there. After that, drive the vehicle from the first location to the fourth location and pick up the second package at the fourth location. Drive from the fourth location to the fifth location and drop off the second package there. Then, drive the vehicle from the fifth location to the sixth location and pick up the third package at the sixth location. Finally, drive the vehicle from the sixth location back to the second location and drop off the third package there.\\n'], ['p16.pddl', '(drive v1?vehicle l4?location l2?location),(pick-up v1?vehicle l2?location p1?package c0?size c1?size),(drive v1?vehicle l2?location l4?location),(drop v1?vehicle l4?location p1?package c0?size c1?size),(drive v1?vehicle l4?location l5?location),(pick-up v1?vehicle l5?location p2?package c0?size c1?size),(drive v1?vehicle l5?location l2?location),(drop v1?vehicle l2?location p2?package c0?size c1?size),(drive v1?vehicle l2?location l3?location),(pick-up v1?vehicle l3?location p3?package c0?size c1?size),(drive v1?vehicle l3?location l5?location),(drop v1?vehicle l5?location p3?package c0?size c1?size)', \"To execute the plan, start by driving a vehicle from location 4 to location 2. Next, pick up a package at location 2, which is of a specified size, and then drive from location 2 back to location 4 to drop off that package. Afterward, drive from location 4 to location 5, where you'll pick up another package at location 5, again of a specified size. Drive from location 5 back to location 2 to drop off this second package. Then, continue by driving from location 2 to location 3, where you will pick up a third package at location 3, of the same specified size. Finally, drive from location 3 back to location 5 to drop off the third package.\\n\"], ['p17.pddl', '(drive v1?vehicle l4?location l1?location),(pick-up v1?vehicle l1?location p1?package c0?size c1?size),(drive v1?vehicle l1?location l3?location),(drop v1?vehicle l3?location p1?package c0?size c1?size),(drive v1?vehicle l3?location l2?location),(pick-up v1?vehicle l2?location p2?package c0?size c1?size),(drive v1?vehicle l2?location l3?location),(drop v1?vehicle l3?location p2?package c0?size c1?size),(drive v1?vehicle l3?location l4?location),(pick-up v1?vehicle l4?location p3?package c0?size c1?size),(drive v1?vehicle l4?location l2?location),(drop v1?vehicle l2?location p3?package c0?size c1?size)', 'First, drive the vehicle from location l4 to location l1. Next, pick up the package p1 of specified size from location l1. Then, drive the vehicle from location l1 to location l3 and drop off package p1 at location l3. After that, drive from location l3 to location l2 and pick up package p2 of specified size from location l2. Drive the vehicle back to location l3 to drop off package p2. Finally, drive from location l3 to location l4, pick up package p3 of specified size at location l4, and then drive to location l2 to drop off package p3.\\n'], ['p18.pddl', '(drive v1?vehicle l3?location l7?location),(drive v1?vehicle l7?location l1?location),(pick-up v1?vehicle l1?location p1?package c0?size c1?size),(drive v1?vehicle l1?location l6?location),(drop v1?vehicle l6?location p1?package c0?size c1?size),(drive v1?vehicle l6?location l2?location),(pick-up v1?vehicle l2?location p2?package c0?size c1?size),(drive v1?vehicle l2?location l1?location),(drive v1?vehicle l1?location l5?location),(drop v1?vehicle l5?location p2?package c0?size c1?size),(drive v1?vehicle l5?location l3?location),(drive v1?vehicle l3?location l7?location),(pick-up v1?vehicle l7?location p3?package c0?size c1?size),(drive v1?vehicle l7?location l2?location),(drive v1?vehicle l2?location l6?location),(drop v1?vehicle l6?location p3?package c0?size c1?size)', 'The plan involves a series of driving and package handling actions that begin with driving from one location to another, followed by picking up a package at the first location, then driving to a new location to drop off that package. After the drop-off, the vehicle is driven to another location where a second package is picked up, followed by further drives to different locations to drop off this second package. The process continues with additional driving actions to pick up a third package and ultimately results in dropping off that package at a designated location, completing the sequence of actions.\\n'], ['p19.pddl', '(drive v1?vehicle l4?location l3?location),(pick-up v1?vehicle l3?location p1?package c1?size c2?size),(drive v1?vehicle l3?location l6?location),(drive v1?vehicle l6?location l5?location),(drop v1?vehicle l5?location p1?package c1?size c2?size),(drive v1?vehicle l5?location l6?location),(drive v1?vehicle l6?location l2?location),(pick-up v1?vehicle l2?location p2?package c1?size c2?size),(drive v1?vehicle l2?location l3?location),(drop v1?vehicle l3?location p2?package c1?size c2?size),(drive v1?vehicle l3?location l4?location),(drive v1?vehicle l4?location l7?location),(pick-up v1?vehicle l7?location p3?package c1?size c2?size),(drive v1?vehicle l7?location l4?location),(drive v1?vehicle l4?location l1?location),(drop v1?vehicle l1?location p3?package c1?size c2?size),(drive v1?vehicle l1?location l4?location),(pick-up v1?vehicle l4?location p4?package c1?size c2?size),(drive v1?vehicle l4?location l2?location),(drop v1?vehicle l2?location p4?package c1?size c2?size)', 'To execute the plan, first, drive the vehicle from location l4 to location l3. Next, pick up the package at location l3, ensuring it meets the specified size requirements. Then, drive from location l3 to location l6, followed by driving to location l5, where you will drop off the previously picked-up package. Afterward, return to location l6 and drive to location l2, where you will pick up another package at that location, again checking the size. Drive back to location l3 to drop off this second package, and then drive to location l4 before heading to location l7 to pick up a third package. After picking up this package at location l7, return to location l4, then drive to location l1 where you will drop off the third package. Subsequently, drive back to location l4 and pick up a fourth package before making your way to location l2 to drop off this last package.\\n'], ['p20.pddl', '(pick-up v1?vehicle l7?location p1?package c1?size c2?size),(drive v1?vehicle l7?location l6?location),(drop v1?vehicle l6?location p1?package c1?size c2?size),(drive v1?vehicle l6?location l3?location),(pick-up v1?vehicle l3?location p2?package c1?size c2?size),(drive v1?vehicle l3?location l6?location),(drop v1?vehicle l6?location p2?package c1?size c2?size),(drive v1?vehicle l6?location l3?location),(pick-up v1?vehicle l3?location p3?package c1?size c2?size),(drive v1?vehicle l3?location l6?location),(drive v1?vehicle l6?location l7?location),(drive v1?vehicle l7?location l2?location),(drop v1?vehicle l2?location p3?package c1?size c2?size),(drive v1?vehicle l2?location l7?location),(drive v1?vehicle l7?location l6?location),(drive v1?vehicle l6?location l3?location),(pick-up v1?vehicle l3?location p4?package c1?size c2?size),(drive v1?vehicle l3?location l6?location),(drive v1?vehicle l6?location l7?location),(drop v1?vehicle l7?location p4?package c1?size c2?size)', 'To execute the plan, first, pick up a package from a specified location using a vehicle. Next, drive the vehicle to another location and drop off the package. After completing the drop-off, drive to a new location and pick up a second package. Then, drive back to the previous drop-off location to deliver that second package. Following this, return to the initial pick-up location to collect a third package and drive it to the drop-off location. Once that is complete, drive to the next location to pick up a fourth package, and finally, drive to the designated drop-off location to deliver this fourth package.\\n'], ['p21.pddl', '(drive v1?vehicle l2?location l3?location),(drive v1?vehicle l3?location l4?location),(pick-up v1?vehicle l4?location p1?package c0?size c1?size),(drive v1?vehicle l4?location l1?location),(drop v1?vehicle l1?location p1?package c0?size c1?size),(drive v1?vehicle l1?location l6?location),(drive v1?vehicle l6?location l3?location),(pick-up v1?vehicle l3?location p2?package c0?size c1?size),(drive v1?vehicle l3?location l6?location),(drive v1?vehicle l6?location l7?location),(drop v1?vehicle l7?location p2?package c0?size c1?size),(drive v1?vehicle l7?location l6?location),(pick-up v1?vehicle l6?location p3?package c0?size c1?size),(drive v1?vehicle l6?location l3?location),(drop v1?vehicle l3?location p3?package c0?size c1?size),(pick-up v1?vehicle l3?location p4?package c0?size c1?size),(drive v1?vehicle l3?location l5?location),(drop v1?vehicle l5?location p4?package c0?size c1?size)', 'To execute the plan, start by driving the vehicle from location 2 to location 3, then continue driving from location 3 to location 4. Once at location 4, pick up the package and then drive to location 1 to drop it off. After dropping off the first package, drive to location 6, then proceed from location 6 back to location 3. At location 3, pick up the second package and drive it to location 6, then drive from location 6 to location 7 to drop off the second package. After the drop-off, return to location 6 and pick up the third package before driving back to location 3 to drop it off. Finally, pick up the fourth package at location 3 and drive to location 5 to complete the delivery.\\n']]\n"
     ]
    }
   ],
   "source": [
    "data = []\n",
    "with open(\"transport_plan2nl.txt\", 'r') as f:\n",
    "        lines = f.readlines()\n",
    "        for line in lines:\n",
    "            item = line.split(\"&&\")\n",
    "            data.append(item)\n"
   ]
  },
  {
   "cell_type": "code",
   "execution_count": null,
   "metadata": {},
   "outputs": [
    {
     "name": "stdout",
     "output_type": "stream",
     "text": [
      "Processing Problem ID: p01.pddl\n",
      "Processing Problem ID: p02.pddl\n",
      "Processing Problem ID: p03.pddl\n",
      "Processing Problem ID: p04.pddl\n",
      "Processing Problem ID: p05.pddl\n",
      "Processing Problem ID: p06.pddl\n",
      "Processing Problem ID: p07.pddl\n",
      "Processing Problem ID: p08.pddl\n",
      "Processing Problem ID: p09.pddl\n",
      "Processing Problem ID: p10.pddl\n",
      "Processing Problem ID: p11.pddl\n",
      "Processing Problem ID: p12.pddl\n",
      "Processing Problem ID: p13.pddl\n",
      "Processing Problem ID: p14.pddl\n",
      "Processing Problem ID: p15.pddl\n",
      "Processing Problem ID: p16.pddl\n",
      "Processing Problem ID: p17.pddl\n",
      "Processing Problem ID: p18.pddl\n",
      "Processing Problem ID: p19.pddl\n",
      "Processing Problem ID: p20.pddl\n",
      "Processing Problem ID: p21.pddl\n"
     ]
    },
    {
     "ename": "TypeError",
     "evalue": "render_comparison() got an unexpected keyword argument 'new_data'",
     "output_type": "error",
     "traceback": [
      "\u001b[0;31m---------------------------------------------------------------------------\u001b[0m",
      "\u001b[0;31mTypeError\u001b[0m                                 Traceback (most recent call last)",
      "Cell \u001b[0;32mIn[9], line 15\u001b[0m\n\u001b[1;32m     12\u001b[0m         f\u001b[38;5;241m.\u001b[39mflush()\n\u001b[1;32m     13\u001b[0m         new_data\u001b[38;5;241m.\u001b[39mappend([prob, plan, nl, res[\u001b[38;5;124m'\u001b[39m\u001b[38;5;124mcontent\u001b[39m\u001b[38;5;124m'\u001b[39m]])\n\u001b[0;32m---> 15\u001b[0m html \u001b[38;5;241m=\u001b[39m \u001b[43mrender_comparison\u001b[49m\u001b[43m(\u001b[49m\u001b[43mnew_data\u001b[49m\u001b[43m \u001b[49m\u001b[38;5;241;43m=\u001b[39;49m\u001b[43m \u001b[49m\u001b[43m[\u001b[49m\u001b[43m]\u001b[49m\n\u001b[1;32m     16\u001b[0m \u001b[43m)\u001b[49m\n\u001b[1;32m     17\u001b[0m \u001b[38;5;28;01mwith\u001b[39;00m \u001b[38;5;28mopen\u001b[39m(\u001b[38;5;124m\"\u001b[39m\u001b[38;5;124mnl2plan_output.html\u001b[39m\u001b[38;5;124m\"\u001b[39m, \u001b[38;5;124m\"\u001b[39m\u001b[38;5;124mw\u001b[39m\u001b[38;5;124m\"\u001b[39m, encoding\u001b[38;5;241m=\u001b[39m\u001b[38;5;124m\"\u001b[39m\u001b[38;5;124mutf-8\u001b[39m\u001b[38;5;124m\"\u001b[39m) \u001b[38;5;28;01mas\u001b[39;00m f:\n\u001b[1;32m     18\u001b[0m     f\u001b[38;5;241m.\u001b[39mwrite(html)\n",
      "\u001b[0;31mTypeError\u001b[0m: render_comparison() got an unexpected keyword argument 'new_data'"
     ]
    }
   ],
   "source": [
    "new_data = []\n",
    "with open(\"transport_nl2plan.txt\", 'w') as f:\n",
    "    for item in data:\n",
    "        print(f\"Processing Problem ID: {item[0]}\")\n",
    "        prob = item[0].strip()\n",
    "        plan = item[1].strip()\n",
    "        nl = item[2].strip()\n",
    "        res = generate_responses('gpt-4o-mini', 'nl2plan', prompt_args={\n",
    "            'nl': nl\n",
    "        })\n",
    "        f.write(f\"{prob}&&{plan}&&{nl}&&{res['content']}\\n\")\n",
    "        f.flush()\n",
    "        new_data.append([prob, plan, nl, res['content']])\n",
    "\n",
    "\n",
    "    \n",
    "    "
   ]
  },
  {
   "cell_type": "code",
   "execution_count": 15,
   "metadata": {},
   "outputs": [],
   "source": [
    "\n",
    "html = render_comparison(new_data)\n",
    "with open(\"nl2plan_output.html\", \"w\", encoding=\"utf-8\") as f:\n",
    "    f.write(html)"
   ]
  },
  {
   "cell_type": "code",
   "execution_count": null,
   "metadata": {},
   "outputs": [],
   "source": []
  }
 ],
 "metadata": {
  "kernelspec": {
   "display_name": "base",
   "language": "python",
   "name": "python3"
  },
  "language_info": {
   "codemirror_mode": {
    "name": "ipython",
    "version": 3
   },
   "file_extension": ".py",
   "mimetype": "text/x-python",
   "name": "python",
   "nbconvert_exporter": "python",
   "pygments_lexer": "ipython3",
   "version": "3.12.2"
  }
 },
 "nbformat": 4,
 "nbformat_minor": 2
}
