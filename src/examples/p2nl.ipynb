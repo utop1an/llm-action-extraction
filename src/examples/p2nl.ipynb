{
 "cells": [
  {
   "cell_type": "code",
   "execution_count": 1,
   "metadata": {},
   "outputs": [],
   "source": [
    "import sys\n",
    "import os\n",
    "sys.path.append(os.path.abspath(\"..\"))\n",
    "from llm import generate_responses, generate_prompt\n",
    "from collections import defaultdict\n",
    "\n",
    "def render_comparison(data):\n",
    "    html = \"\"\"\n",
    "        <style>\n",
    "            table { \n",
    "                border-collapse: collapse; \n",
    "                width: 100%; \n",
    "                font-family: sans-serif; \n",
    "                table-layout: auto; /* let columns auto-size */\n",
    "            }\n",
    "            th, td { \n",
    "                border: 1px solid #ccc; \n",
    "                padding: 8px; \n",
    "                text-align: left; \n",
    "                vertical-align: top; \n",
    "                /* remove fixed width here */\n",
    "            }\n",
    "            th { \n",
    "                background-color: #f2f2f2; \n",
    "            }\n",
    "            td pre { \n",
    "                white-space: pre-wrap; \n",
    "                word-break: break-word; \n",
    "            }\n",
    "        </style>\n",
    "        <table>\n",
    "            <tr><th>Problem ID</th><th>Original Plan</th><th>NL Description</th><th>Summary</th><th>Detail</th></tr>\n",
    "        \"\"\"\n",
    "    for k, values in data.items():\n",
    "        line = \"<tr><td>\" + str(k) + \"</td>\"\n",
    "        for v in values:\n",
    "            line += f\"<td><pre>{v}</pre></td>\"\n",
    "        line += \"</tr>\"\n",
    "        html += line\n",
    "    html += \"</table>\"\n",
    "    return html\n",
    "\n",
    "\n",
    "\n"
   ]
  },
  {
   "cell_type": "code",
   "execution_count": null,
   "metadata": {},
   "outputs": [],
   "source": [
    "plan_file_path = \"../../data/plans/plans.txt\"\n",
    "plans = []\n",
    "with open(plan_file_path, 'r') as f:\n",
    "    lines = f.readlines()\n",
    "    count = 0\n",
    "    for line in lines:\n",
    "        if count >=10:\n",
    "            break\n",
    "        item = line.split(\"&&\")\n",
    "        domain = item[0].strip()\n",
    "        prob = item[1].strip()\n",
    "        plan = line.split(\"&&\")[-1].strip()\n",
    "        if domain != \"transport\":\n",
    "            continue\n",
    "        plans.append((prob, plan))\n",
    "        count += 1\n",
    "\n",
    "def process_plans(plans, prompt_name):\n",
    "    print(prompt_name)\n",
    "    with open(f\"./nl/transport_{prompt_name}.txt\", 'w') as f:\n",
    "        for prob, plan in plans:\n",
    "            print(\"Processing:\", prob)\n",
    "            prompt = generate_prompt(prompt_name, {'plan': plan})\n",
    "            res = generate_responses('gpt-4o-mini', prompt)\n",
    "            f.write(f\"{prob}&&{plan}&&{res['content']}\\n\")\n",
    "            f.flush()\n",
    "\n",
    "\n",
    "\n"
   ]
  },
  {
   "cell_type": "code",
   "execution_count": 5,
   "metadata": {},
   "outputs": [
    {
     "name": "stdout",
     "output_type": "stream",
     "text": [
      "p2nl\n"
     ]
    },
    {
     "ename": "FileNotFoundError",
     "evalue": "[Errno 2] No such file or directory: './nl/transport_p2nl.txt'",
     "output_type": "error",
     "traceback": [
      "\u001b[31m---------------------------------------------------------------------------\u001b[39m",
      "\u001b[31mFileNotFoundError\u001b[39m                         Traceback (most recent call last)",
      "\u001b[36mCell\u001b[39m\u001b[36m \u001b[39m\u001b[32mIn[5]\u001b[39m\u001b[32m, line 1\u001b[39m\n\u001b[32m----> \u001b[39m\u001b[32m1\u001b[39m \u001b[43mprocess_plans\u001b[49m\u001b[43m(\u001b[49m\u001b[43mplans\u001b[49m\u001b[43m,\u001b[49m\u001b[43m \u001b[49m\u001b[33;43m\"\u001b[39;49m\u001b[33;43mp2nl\u001b[39;49m\u001b[33;43m\"\u001b[39;49m\u001b[43m)\u001b[49m\n",
      "\u001b[36mCell\u001b[39m\u001b[36m \u001b[39m\u001b[32mIn[4]\u001b[39m\u001b[32m, line 20\u001b[39m, in \u001b[36mprocess_plans\u001b[39m\u001b[34m(plans, prompt_name)\u001b[39m\n\u001b[32m     18\u001b[39m \u001b[38;5;28;01mdef\u001b[39;00m\u001b[38;5;250m \u001b[39m\u001b[34mprocess_plans\u001b[39m(plans, prompt_name):\n\u001b[32m     19\u001b[39m     \u001b[38;5;28mprint\u001b[39m(prompt_name)\n\u001b[32m---> \u001b[39m\u001b[32m20\u001b[39m     \u001b[38;5;28;01mwith\u001b[39;00m \u001b[38;5;28;43mopen\u001b[39;49m\u001b[43m(\u001b[49m\u001b[33;43mf\u001b[39;49m\u001b[33;43m\"\u001b[39;49m\u001b[33;43m./nl/transport_\u001b[39;49m\u001b[38;5;132;43;01m{\u001b[39;49;00m\u001b[43mprompt_name\u001b[49m\u001b[38;5;132;43;01m}\u001b[39;49;00m\u001b[33;43m.txt\u001b[39;49m\u001b[33;43m\"\u001b[39;49m\u001b[43m,\u001b[49m\u001b[43m \u001b[49m\u001b[33;43m'\u001b[39;49m\u001b[33;43mr\u001b[39;49m\u001b[33;43m'\u001b[39;49m\u001b[43m)\u001b[49m \u001b[38;5;28;01mas\u001b[39;00m f:\n\u001b[32m     21\u001b[39m         \u001b[38;5;28;01mfor\u001b[39;00m prob, plan \u001b[38;5;129;01min\u001b[39;00m plans:\n\u001b[32m     22\u001b[39m             \u001b[38;5;28mprint\u001b[39m(\u001b[33m\"\u001b[39m\u001b[33mProcessing:\u001b[39m\u001b[33m\"\u001b[39m, prob)\n",
      "\u001b[36mFile \u001b[39m\u001b[32mc:\\Users\\Apexmod\\miniforge3\\envs\\llm\\Lib\\site-packages\\IPython\\core\\interactiveshell.py:327\u001b[39m, in \u001b[36m_modified_open\u001b[39m\u001b[34m(file, *args, **kwargs)\u001b[39m\n\u001b[32m    320\u001b[39m \u001b[38;5;28;01mif\u001b[39;00m file \u001b[38;5;129;01min\u001b[39;00m {\u001b[32m0\u001b[39m, \u001b[32m1\u001b[39m, \u001b[32m2\u001b[39m}:\n\u001b[32m    321\u001b[39m     \u001b[38;5;28;01mraise\u001b[39;00m \u001b[38;5;167;01mValueError\u001b[39;00m(\n\u001b[32m    322\u001b[39m         \u001b[33mf\u001b[39m\u001b[33m\"\u001b[39m\u001b[33mIPython won\u001b[39m\u001b[33m'\u001b[39m\u001b[33mt let you open fd=\u001b[39m\u001b[38;5;132;01m{\u001b[39;00mfile\u001b[38;5;132;01m}\u001b[39;00m\u001b[33m by default \u001b[39m\u001b[33m\"\u001b[39m\n\u001b[32m    323\u001b[39m         \u001b[33m\"\u001b[39m\u001b[33mas it is likely to crash IPython. If you know what you are doing, \u001b[39m\u001b[33m\"\u001b[39m\n\u001b[32m    324\u001b[39m         \u001b[33m\"\u001b[39m\u001b[33myou can use builtins\u001b[39m\u001b[33m'\u001b[39m\u001b[33m open.\u001b[39m\u001b[33m\"\u001b[39m\n\u001b[32m    325\u001b[39m     )\n\u001b[32m--> \u001b[39m\u001b[32m327\u001b[39m \u001b[38;5;28;01mreturn\u001b[39;00m \u001b[43mio_open\u001b[49m\u001b[43m(\u001b[49m\u001b[43mfile\u001b[49m\u001b[43m,\u001b[49m\u001b[43m \u001b[49m\u001b[43m*\u001b[49m\u001b[43margs\u001b[49m\u001b[43m,\u001b[49m\u001b[43m \u001b[49m\u001b[43m*\u001b[49m\u001b[43m*\u001b[49m\u001b[43mkwargs\u001b[49m\u001b[43m)\u001b[49m\n",
      "\u001b[31mFileNotFoundError\u001b[39m: [Errno 2] No such file or directory: './nl/transport_p2nl.txt'"
     ]
    }
   ],
   "source": [
    "process_plans(plans, \"p2nl\")\n"
   ]
  },
  {
   "cell_type": "code",
   "execution_count": null,
   "metadata": {},
   "outputs": [],
   "source": [
    "process_plans(plans, \"p2nl-summary\")\n"
   ]
  },
  {
   "cell_type": "code",
   "execution_count": null,
   "metadata": {},
   "outputs": [],
   "source": [
    "process_plans(plans, \"p2nl-detail\")"
   ]
  },
  {
   "cell_type": "code",
   "execution_count": null,
   "metadata": {},
   "outputs": [],
   "source": [
    "data = defaultdict(list)\n",
    "with open(\"./nl/transport_p2nl.txt\", 'r') as f:\n",
    "    for line in f:\n",
    "        item = line.split(\"&&\")\n",
    "        prob = item[0].strip()\n",
    "        plan = item[1].strip()\n",
    "        nl = item[2].strip()\n",
    "        data[prob] = [ plan, nl]\n",
    "with open(\"./nl/transport_p2nl-summary.txt\", 'r') as f:\n",
    "    for line in f:\n",
    "        item = line.split(\"&&\")\n",
    "        prob = item[0].strip()\n",
    "        summary = item[2].strip()\n",
    "        if prob in data:\n",
    "            data[prob].append(summary)\n",
    "with open(\"./nl/transport_p2nl-detail.txt\", 'r') as f:\n",
    "    for line in f:\n",
    "        item = line.split(\"&&\")\n",
    "        prob = item[0].strip()\n",
    "        detail = item[2].strip()\n",
    "        if prob in data:\n",
    "            data[prob].append(detail)\n",
    "\n",
    "html = render_comparison(data)\n",
    "with open(\"./views/p2nl.html\", \"w\", encoding=\"utf-8\") as f:\n",
    "    f.write(html)"
   ]
  }
 ],
 "metadata": {
  "kernelspec": {
   "display_name": "llm",
   "language": "python",
   "name": "python3"
  },
  "language_info": {
   "codemirror_mode": {
    "name": "ipython",
    "version": 3
   },
   "file_extension": ".py",
   "mimetype": "text/x-python",
   "name": "python",
   "nbconvert_exporter": "python",
   "pygments_lexer": "ipython3",
   "version": "3.13.4"
  }
 },
 "nbformat": 4,
 "nbformat_minor": 2
}
