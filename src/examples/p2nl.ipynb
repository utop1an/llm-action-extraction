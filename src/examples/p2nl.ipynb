{
 "cells": [
  {
   "cell_type": "code",
   "execution_count": 1,
   "metadata": {},
   "outputs": [],
   "source": [
    "import sys\n",
    "import os\n",
    "sys.path.append(os.path.abspath(\"..\"))\n",
    "from llm import generate_responses, generate_prompt\n",
    "from collections import defaultdict\n",
    "\n",
    "def render_comparison(data):\n",
    "    html = \"\"\"\n",
    "        <style>\n",
    "            table { \n",
    "                border-collapse: collapse; \n",
    "                width: 100%; \n",
    "                font-family: sans-serif; \n",
    "                table-layout: auto; /* let columns auto-size */\n",
    "            }\n",
    "            th, td { \n",
    "                border: 1px solid #ccc; \n",
    "                padding: 8px; \n",
    "                text-align: left; \n",
    "                vertical-align: top; \n",
    "                /* remove fixed width here */\n",
    "            }\n",
    "            th { \n",
    "                background-color: #f2f2f2; \n",
    "            }\n",
    "            td pre { \n",
    "                white-space: pre-wrap; \n",
    "                word-break: break-word; \n",
    "            }\n",
    "        </style>\n",
    "        <table>\n",
    "            <tr><th>Problem ID</th><th>Original Plan</th><th>NL Description</th><th>Summary</th><th>Detail</th></tr>\n",
    "        \"\"\"\n",
    "    for k, values in data.items():\n",
    "        line = \"<tr><td>\" + str(k) + \"</td>\"\n",
    "        for v in values:\n",
    "            line += f\"<td><pre>{v}</pre></td>\"\n",
    "        line += \"</tr>\"\n",
    "        html += line\n",
    "    html += \"</table>\"\n",
    "    return html\n",
    "\n",
    "\n",
    "\n"
   ]
  },
  {
   "cell_type": "code",
   "execution_count": 6,
   "metadata": {},
   "outputs": [],
   "source": [
    "plan_file_path = \"../../data/plans/plans.txt\"\n",
    "plans = []\n",
    "with open(plan_file_path, 'r') as f:\n",
    "    lines = f.readlines()\n",
    "    count = 0\n",
    "    for line in lines:\n",
    "        if count >=10:\n",
    "            break\n",
    "        item = line.split(\"&&\")\n",
    "        domain = item[0].strip()\n",
    "        prob = item[1].strip()\n",
    "        plan = line.split(\"&&\")[-1].strip()\n",
    "        if domain != \"transport\":\n",
    "            continue\n",
    "        plans.append((prob, plan))\n",
    "        count += 1\n",
    "\n",
    "def process_plans(plans, prompt_name):\n",
    "    print(prompt_name)\n",
    "    with open(f\"./nl/transport_{prompt_name}.txt\", 'w') as f:\n",
    "        for prob, plan in plans:\n",
    "            print(\"Processing:\", prob)\n",
    "            prompt = generate_prompt(prompt_name, {'plan': plan})\n",
    "            res = generate_responses('gpt-4o-mini', prompt)\n",
    "            f.write(f\"{prob}&&{plan}&&{res['content']}\\n\")\n",
    "            f.flush()\n",
    "\n",
    "\n",
    "\n"
   ]
  },
  {
   "cell_type": "code",
   "execution_count": 7,
   "metadata": {},
   "outputs": [
    {
     "name": "stdout",
     "output_type": "stream",
     "text": [
      "p2nl\n",
      "Processing: p01.pddl\n",
      "Processing: p02.pddl\n",
      "Processing: p03.pddl\n",
      "Processing: p04.pddl\n",
      "Processing: p05.pddl\n",
      "Processing: p06.pddl\n",
      "Processing: p07.pddl\n",
      "Processing: p08.pddl\n",
      "Processing: p09.pddl\n",
      "Processing: p10.pddl\n"
     ]
    }
   ],
   "source": [
    "process_plans(plans, \"p2nl\")\n"
   ]
  },
  {
   "cell_type": "code",
   "execution_count": 8,
   "metadata": {},
   "outputs": [
    {
     "name": "stdout",
     "output_type": "stream",
     "text": [
      "p2nl-summary\n",
      "Processing: p01.pddl\n",
      "Processing: p02.pddl\n",
      "Processing: p03.pddl\n",
      "Processing: p04.pddl\n",
      "Processing: p05.pddl\n",
      "Processing: p06.pddl\n",
      "Processing: p07.pddl\n",
      "Processing: p08.pddl\n",
      "Processing: p09.pddl\n",
      "Processing: p10.pddl\n"
     ]
    }
   ],
   "source": [
    "process_plans(plans, \"p2nl-summary\")\n"
   ]
  },
  {
   "cell_type": "code",
   "execution_count": 9,
   "metadata": {},
   "outputs": [
    {
     "name": "stdout",
     "output_type": "stream",
     "text": [
      "p2nl-detail\n",
      "Processing: p01.pddl\n",
      "Processing: p02.pddl\n",
      "Processing: p03.pddl\n",
      "Processing: p04.pddl\n",
      "Processing: p05.pddl\n",
      "Processing: p06.pddl\n",
      "Processing: p07.pddl\n",
      "Processing: p08.pddl\n",
      "Processing: p09.pddl\n",
      "Processing: p10.pddl\n"
     ]
    }
   ],
   "source": [
    "process_plans(plans, \"p2nl-detail\")"
   ]
  },
  {
   "cell_type": "code",
   "execution_count": 10,
   "metadata": {},
   "outputs": [],
   "source": [
    "data = defaultdict(list)\n",
    "with open(\"./nl/transport_p2nl.txt\", 'r') as f:\n",
    "    for line in f:\n",
    "        item = line.split(\"&&\")\n",
    "        prob = item[0].strip()\n",
    "        plan = item[1].strip()\n",
    "        nl = item[2].strip()\n",
    "        data[prob] = [ plan, nl]\n",
    "with open(\"./nl/transport_p2nl-summary.txt\", 'r') as f:\n",
    "    for line in f:\n",
    "        item = line.split(\"&&\")\n",
    "        prob = item[0].strip()\n",
    "        summary = item[2].strip()\n",
    "        if prob in data:\n",
    "            data[prob].append(summary)\n",
    "with open(\"./nl/transport_p2nl-detail.txt\", 'r') as f:\n",
    "    for line in f:\n",
    "        item = line.split(\"&&\")\n",
    "        prob = item[0].strip()\n",
    "        detail = item[2].strip()\n",
    "        if prob in data:\n",
    "            data[prob].append(detail)\n",
    "\n",
    "html = render_comparison(data)\n",
    "with open(\"./views/p2nl.html\", \"w\", encoding=\"utf-8\") as f:\n",
    "    f.write(html)"
   ]
  },
  {
   "cell_type": "code",
   "execution_count": null,
   "metadata": {},
   "outputs": [],
   "source": []
  }
 ],
 "metadata": {
  "kernelspec": {
   "display_name": "llm",
   "language": "python",
   "name": "python3"
  },
  "language_info": {
   "codemirror_mode": {
    "name": "ipython",
    "version": 3
   },
   "file_extension": ".py",
   "mimetype": "text/x-python",
   "name": "python",
   "nbconvert_exporter": "python",
   "pygments_lexer": "ipython3",
   "version": "3.13.4"
  }
 },
 "nbformat": 4,
 "nbformat_minor": 2
}
